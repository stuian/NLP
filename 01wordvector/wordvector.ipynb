{
 "cells": [
  {
   "cell_type": "markdown",
   "metadata": {},
   "source": [
    "# Word Vector"
   ]
  },
  {
   "cell_type": "code",
   "execution_count": 1,
   "metadata": {},
   "outputs": [
    {
     "name": "stderr",
     "output_type": "stream",
     "text": [
      "C:\\ProgramData\\Anaconda3\\lib\\site-packages\\h5py\\__init__.py:36: FutureWarning: Conversion of the second argument of issubdtype from `float` to `np.floating` is deprecated. In future, it will be treated as `np.float64 == np.dtype(float).type`.\n",
      "  from ._conv import register_converters as _register_converters\n"
     ]
    }
   ],
   "source": [
    "import codecs\n",
    "import numpy as np\n",
    "import tensorflow as tf"
   ]
  },
  {
   "cell_type": "code",
   "execution_count": 19,
   "metadata": {},
   "outputs": [],
   "source": [
    "# data\n",
    "en_vocab = codecs.open(\"../ted-data/en.vocab\",\"r\",\"utf-8\")\n",
    "word = []\n",
    "for line in en_vocab:\n",
    "    line = line.strip(\"\\n\")\n",
    "    word.append(line)"
   ]
  },
  {
   "cell_type": "code",
   "execution_count": 22,
   "metadata": {},
   "outputs": [
    {
     "data": {
      "text/plain": [
       "'<unk>'"
      ]
     },
     "execution_count": 22,
     "metadata": {},
     "output_type": "execute_result"
    }
   ],
   "source": [
    "word[0]"
   ]
  },
  {
   "cell_type": "code",
   "execution_count": 30,
   "metadata": {},
   "outputs": [],
   "source": [
    "word_to_id = {}\n",
    "for index,w in enumerate(word):\n",
    "    word_to_id[w] = index\n",
    "en_vocab_size = len(word_to_id)"
   ]
  },
  {
   "cell_type": "markdown",
   "metadata": {},
   "source": [
    "### 1 one-hot"
   ]
  },
  {
   "cell_type": "code",
   "execution_count": 31,
   "metadata": {},
   "outputs": [],
   "source": [
    "def get_id(word):\n",
    "    return word_to_id[word] if word in word_to_id else word_to_id[\"<unk>\"]\n",
    "def OneHotVector(word):\n",
    "    word_id = get_id(word)\n",
    "    word_vector = np.zeros(en_vocab_size)\n",
    "    word_vector[word_id] = 1\n",
    "    return word_vector"
   ]
  },
  {
   "cell_type": "code",
   "execution_count": 36,
   "metadata": {},
   "outputs": [
    {
     "data": {
      "text/plain": [
       "array([1., 0., 0., ..., 0., 0., 0.])"
      ]
     },
     "execution_count": 36,
     "metadata": {},
     "output_type": "execute_result"
    }
   ],
   "source": [
    "OneHotVector(\"<unk>\")"
   ]
  },
  {
   "cell_type": "markdown",
   "metadata": {},
   "source": [
    "### 2 based on SVD\n",
    "\n",
    "> 降维，让词之间产生联系"
   ]
  },
  {
   "cell_type": "markdown",
   "metadata": {},
   "source": [
    "### 2.1 词-文档矩阵\n",
    "\n",
    "- 最终所得矩阵维度为：V（词汇数量） x M(文档个数)\n",
    "- 维度超大，必须要优化"
   ]
  },
  {
   "cell_type": "markdown",
   "metadata": {},
   "source": [
    "### 2.2 词词共现矩阵"
   ]
  },
  {
   "cell_type": "code",
   "execution_count": 39,
   "metadata": {},
   "outputs": [],
   "source": [
    "corpus_raw = 'He is the king . The king is royal . She is the royal queen'\n",
    "\n",
    "#convert to lower case\n",
    "corpus_raw = corpus_raw.lower()\n",
    "\n",
    "#create a list to determine the index of every word\n",
    "words = []\n",
    "for word in corpus_raw.split():\n",
    "    if word != '.':\n",
    "        words.append(word)\n",
    "words = set(words)"
   ]
  },
  {
   "cell_type": "code",
   "execution_count": 40,
   "metadata": {},
   "outputs": [
    {
     "data": {
      "text/plain": [
       "{'he', 'is', 'king', 'queen', 'royal', 'she', 'the'}"
      ]
     },
     "execution_count": 40,
     "metadata": {},
     "output_type": "execute_result"
    }
   ],
   "source": [
    "words"
   ]
  },
  {
   "cell_type": "code",
   "execution_count": 41,
   "metadata": {},
   "outputs": [],
   "source": [
    "# create dicts of index and words\n",
    "word2int = {}\n",
    "int2word = {}\n",
    "vocab_size = len(words)\n",
    "for i,word in enumerate(words):\n",
    "    word2int[word] = i\n",
    "    int2word[i] = word"
   ]
  },
  {
   "cell_type": "code",
   "execution_count": 42,
   "metadata": {},
   "outputs": [],
   "source": [
    "#convert sentence to words\n",
    "raw_sentences = corpus_raw.split('.')\n",
    "sentences = []\n",
    "for sentence in raw_sentences:\n",
    "    sentences.append(sentence.split())\n",
    "#every element of sentences is the words of a sentence"
   ]
  },
  {
   "cell_type": "code",
   "execution_count": 43,
   "metadata": {},
   "outputs": [
    {
     "data": {
      "text/plain": [
       "[['he', 'is', 'the', 'king'],\n",
       " ['the', 'king', 'is', 'royal'],\n",
       " ['she', 'is', 'the', 'royal', 'queen']]"
      ]
     },
     "execution_count": 43,
     "metadata": {},
     "output_type": "execute_result"
    }
   ],
   "source": [
    "sentences"
   ]
  },
  {
   "cell_type": "code",
   "execution_count": 44,
   "metadata": {},
   "outputs": [],
   "source": [
    "#create word-word matrix\n",
    "WINDOW_SIZE = 1\n",
    "words_matrix = np.zeros((vocab_size,vocab_size))\n",
    "for sentence in sentences:\n",
    "    for word_index,word in enumerate(sentence):\n",
    "        index = word2int[word]\n",
    "        for nb_word in sentence[max(word_index - WINDOW_SIZE,0) : min(word_index + WINDOW_SIZE,len(sentence)) + 1]:\n",
    "            if nb_word != word:\n",
    "                target_index = word2int[nb_word]\n",
    "                words_matrix[index][target_index] += 1"
   ]
  },
  {
   "cell_type": "code",
   "execution_count": 45,
   "metadata": {},
   "outputs": [
    {
     "data": {
      "text/plain": [
       "array([[0., 1., 2., 1., 1., 0., 1.],\n",
       "       [1., 0., 0., 0., 0., 0., 0.],\n",
       "       [2., 0., 0., 2., 0., 0., 1.],\n",
       "       [1., 0., 2., 0., 0., 0., 0.],\n",
       "       [1., 0., 0., 0., 0., 0., 0.],\n",
       "       [0., 0., 0., 0., 0., 0., 1.],\n",
       "       [1., 0., 1., 0., 0., 1., 0.]])"
      ]
     },
     "execution_count": 45,
     "metadata": {},
     "output_type": "execute_result"
    }
   ],
   "source": [
    "words_matrix"
   ]
  },
  {
   "cell_type": "markdown",
   "metadata": {},
   "source": [
    "### 3 skip-gram"
   ]
  },
  {
   "cell_type": "code",
   "execution_count": null,
   "metadata": {},
   "outputs": [],
   "source": [
    "#create traing data\n",
    "data = []\n",
    "\n",
    "WINDOW_SIZE = 2\n",
    "\n",
    "for sentence in sentences:\n",
    "    for word_index,word in enumerate(sentence):\n",
    "        for nb_word in sentence[max(word_index - WINDOW_SIZE,0) : min(word_index + WINDOW_SIZE,len(sentence)) + 1]:\n",
    "            #the reason of adding 1 is that ending isn't being taken into consideration\n",
    "            if nb_word != word:\n",
    "                data.append([word,nb_word])\n",
    "                # the couple of input and output"
   ]
  },
  {
   "cell_type": "code",
   "execution_count": null,
   "metadata": {},
   "outputs": [],
   "source": [
    "#convert couple of word to numbers ,then continue to turn from numbers to one-hot\n",
    "def to_one_hot(data_point_index,vocab_size):\n",
    "    temp = np.zeros(vocab_size)\n",
    "    temp[data_point_index] = 1\n",
    "    return temp"
   ]
  },
  {
   "cell_type": "code",
   "execution_count": null,
   "metadata": {},
   "outputs": [],
   "source": [
    "x_train = []\n",
    "y_train = []\n",
    "\n",
    "for data_word in data:\n",
    "    x_train.append(to_one_hot(word2int[data_word[0]],vocab_size))\n",
    "    y_train.append(to_one_hot(word2int[data_word[1]],vocab_size))\n",
    "\n",
    "#convert x and y to nunmpy arrays\n",
    "x_train = np.asarray(x_train)\n",
    "y_train = np.asarray(y_train)"
   ]
  },
  {
   "cell_type": "code",
   "execution_count": null,
   "metadata": {
    "scrolled": true
   },
   "outputs": [],
   "source": [
    "#make tensorflow mode\n",
    "x = tf.placeholder(tf.float32,shape=(None,vocab_size))\n",
    "y_label = tf.placeholder(tf.float32,shape=(None,vocab_size))\n",
    "\n",
    "EMBEDDING_DIM = 5 #embedding dimension\n",
    "w1 = tf.Variable(tf.random_normal([vocab_size,EMBEDDING_DIM]))\n",
    "b1 = tf.Variable(tf.random_normal([EMBEDDING_DIM]))\n",
    "\n",
    "hidden_representation = tf.add(tf.matmul(x,w1),b1)\n",
    "# hidden_representation stands for embedding vector\n",
    "\n",
    "#deal with hidden layer\n",
    "#predict the surrounding words\n",
    "w2 = tf.Variable(tf.random_normal([EMBEDDING_DIM,vocab_size]))\n",
    "b2 = tf.Variable(tf.random_normal([vocab_size]))\n",
    "prediction = tf.nn.softmax(tf.add(tf.matmul(hidden_representation,w2),b2))"
   ]
  },
  {
   "cell_type": "code",
   "execution_count": null,
   "metadata": {},
   "outputs": [],
   "source": [
    "sess = tf.Session()\n",
    "init = tf.global_variables_initializer()\n",
    "sess.run(init)\n",
    "\n",
    "# cost function\n",
    "cross_entropy_loss = tf.reduce_mean(-tf.reduce_sum(y_label*tf.log(prediction),reduction_indices=[1]))\n",
    "\n",
    "# optimization function\n",
    "train_step = tf.train.GradientDescentOptimizer(0.1).minimize(cross_entropy_loss)\n",
    "\n",
    "# iteration\n",
    "n_iters = 10000\n",
    "for i in range(n_iters):\n",
    "    sess.run(train_step,feed_dict={x:x_train,y_label:y_train})\n",
    "    print(\"%diter,\",i)\n",
    "    print('loss is :',sess.run(cross_entropy_loss,feed_dict={x:x_train,y_label:y_train}))"
   ]
  },
  {
   "cell_type": "markdown",
   "metadata": {},
   "source": [
    "> 补充"
   ]
  },
  {
   "attachments": {
    "1.jpg": {
     "image/jpeg": "[encoded data removed]"
    }
   },
   "cell_type": "markdown",
   "metadata": {},
   "source": [
    "![1.jpg](attachment:1.jpg)"
   ]
  },
  {
   "cell_type": "code",
   "execution_count": null,
   "metadata": {},
   "outputs": [],
   "source": [
    "embedding,predict = sess.run([hidden_representation,prediction],feed_dict={x:x_train,y_label:y_train})\n",
    "print(embedding.shape)\n",
    "print(vocab_size)\n",
    "# print(predict)\n",
    "print(sum(predict[1])  )\n",
    "# print(y_train)"
   ]
  }
 ],
 "metadata": {
  "kernelspec": {
   "display_name": "Python 3",
   "language": "python",
   "name": "python3"
  },
  "language_info": {
   "codemirror_mode": {
    "name": "ipython",
    "version": 3
   },
   "file_extension": ".py",
   "mimetype": "text/x-python",
   "name": "python",
   "nbconvert_exporter": "python",
   "pygments_lexer": "ipython3",
   "version": "3.6.4"
  }
 },
 "nbformat": 4,
 "nbformat_minor": 2
}
