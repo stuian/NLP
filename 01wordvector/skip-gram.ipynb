{
 "cells": [
  {
   "cell_type": "markdown",
   "metadata": {},
   "source": [
    "## Skip-Grams"
   ]
  },
  {
   "cell_type": "code",
   "execution_count": 2,
   "metadata": {},
   "outputs": [
    {
     "name": "stderr",
     "output_type": "stream",
     "text": [
      "C:\\ProgramData\\Anaconda3\\lib\\site-packages\\h5py\\__init__.py:36: FutureWarning: Conversion of the second argument of issubdtype from `float` to `np.floating` is deprecated. In future, it will be treated as `np.float64 == np.dtype(float).type`.\n",
      "  from ._conv import register_converters as _register_converters\n"
     ]
    }
   ],
   "source": [
    "import collections\n",
    "import math\n",
    "import os\n",
    "import random\n",
    "import zipfile\n",
    "import numpy as np\n",
    "import urllib\n",
    "import tensorflow as tf"
   ]
  },
  {
   "cell_type": "markdown",
   "metadata": {},
   "source": [
    "#### 下载压缩文件和核对大小"
   ]
  },
  {
   "cell_type": "code",
   "execution_count": 3,
   "metadata": {},
   "outputs": [
    {
     "name": "stdout",
     "output_type": "stream",
     "text": [
      "Found and verified text8.zip\n"
     ]
    }
   ],
   "source": [
    "url = \"http://mattmahoney.net/dc/\"\n",
    "\n",
    "def maybe_download(filename,expected_bytes):\n",
    "    if not os.path.exists(filename):\n",
    "        filename,_ = urllib.request.urlretrieve(url+filename,filename)\n",
    "    statinfo = os.stat(filename)\n",
    "    if statinfo.st_size == expected_bytes:\n",
    "        print('Found and verified',filename)\n",
    "    else:\n",
    "        print(statinfo.st_size)\n",
    "        raise Exception('Failed to verify '+filename+'.Can you get to it with a browser?')\n",
    "    return filename\n",
    "\n",
    "filename = maybe_download('text8.zip',31344016)"
   ]
  },
  {
   "cell_type": "markdown",
   "metadata": {},
   "source": [
    "#### 得到包含17005207个单词的列"
   ]
  },
  {
   "cell_type": "code",
   "execution_count": 7,
   "metadata": {},
   "outputs": [
    {
     "name": "stdout",
     "output_type": "stream",
     "text": [
      "Data size 17005207\n"
     ]
    }
   ],
   "source": [
    "def read_data(filename):\n",
    "    with zipfile.ZipFile(filename) as f:\n",
    "        data = tf.compat.as_str(f.read(f.namelist()[0])).split()\n",
    "    return data\n",
    "\n",
    "words = read_data(filename)\n",
    "print(\"Data size\",len(words))"
   ]
  },
  {
   "cell_type": "code",
   "execution_count": 13,
   "metadata": {},
   "outputs": [
    {
     "data": {
      "text/plain": [
       "['anarchism', 'originated', 'as', 'a', 'term']"
      ]
     },
     "execution_count": 13,
     "metadata": {},
     "output_type": "execute_result"
    }
   ],
   "source": [
    "words[:5]"
   ]
  },
  {
   "cell_type": "markdown",
   "metadata": {},
   "source": [
    "#### word2int,int2word"
   ]
  },
  {
   "cell_type": "code",
   "execution_count": 15,
   "metadata": {},
   "outputs": [],
   "source": [
    "vocabulary_size = 50000\n",
    "\n",
    "def build_dataset(words):\n",
    "    count = [['unk',-1]] #-1代表unk的数量\n",
    "    count.extend(collections.Counter(words).most_common(vocabulary_size - 1))\n",
    "    dictionary = dict()\n",
    "    for word,_ in count:\n",
    "        dictionary[word] = len(dictionary)\n",
    "    data = list()\n",
    "    unk_count = 0\n",
    "    for word in words:\n",
    "        if word in dictionary:\n",
    "            index = dictionary[word]\n",
    "        else:\n",
    "            index = 0\n",
    "            unk_count += 1\n",
    "        data.append(index)\n",
    "    count[0][1] = unk_count\n",
    "    reverse_dictionary = dict(zip(dictionary.values(),dictionary.keys()))\n",
    "    return data,count,dictionary,reverse_dictionary\n",
    "# data:words中所有词对应的索引\n",
    "# count:[[词,频数]]\n",
    "# dictionary:词：索引\n",
    "# reverse_dictionaty:索引：词\n",
    "\n",
    "data,count,dictionary,reverse_dictionary = build_dataset(words)"
   ]
  },
  {
   "cell_type": "code",
   "execution_count": 18,
   "metadata": {},
   "outputs": [
    {
     "name": "stdout",
     "output_type": "stream",
     "text": [
      "Most common words (+UNK) [['unk', 418391], ('the', 1061396), ('of', 593677), ('and', 416629), ('one', 411764)]\n",
      "\n",
      "\n",
      "Sample data [5234, 3081, 12, 6, 195, 2, 3134, 46, 59, 156] ['anarchism', 'originated', 'as', 'a', 'term', 'of', 'abuse', 'first', 'used', 'against']\n"
     ]
    }
   ],
   "source": [
    "# del words # 防止占内存\n",
    "print(\"Most common words (+UNK)\",count[:5])\n",
    "print(\"\\n\")\n",
    "print('Sample data',data[:10],[reverse_dictionary[i] for i in data[:10]])"
   ]
  },
  {
   "cell_type": "markdown",
   "metadata": {},
   "source": [
    "#### batch and labels"
   ]
  },
  {
   "cell_type": "code",
   "execution_count": 22,
   "metadata": {},
   "outputs": [],
   "source": [
    "data_index = 0\n",
    "def generate_batch(batch_size,num_skips,skip_window):\n",
    "    \"\"\"\n",
    "    num_skips:每个单词产生多少个样本\n",
    "    bacth_size必须是num_skips的整数倍\n",
    "    batch:样本集合\n",
    "    \n",
    "    \"\"\"\n",
    "    global data_index\n",
    "    assert batch_size % num_skips == 0\n",
    "    assert num_skips <= 2 * skip_window\n",
    "    batch = np.ndarray(shape=(batch_size),dtype=np.int32)\n",
    "    labels = np.ndarray(shape=(batch_size,1),dtype=np.int32)\n",
    "    span = 2 * skip_window + 1\n",
    "    buffer = collections.deque(maxlen=span)\n",
    "    for _ in range(span):\n",
    "        buffer.append(data[data_index])\n",
    "        data_index =(data_index + 1) % len(data)\n",
    "    for i in range(batch_size // num_skips):\n",
    "        target = skip_window # 第skip_window个变量为目标词汇\n",
    "        targets_to_avoid = [skip_window] #生成样本时要避开的词汇，初始时包含目标词汇本身\n",
    "        for j in range(num_skips):\n",
    "            while target in targets_to_avoid:\n",
    "                target = random.randint(0,span - 1)\n",
    "            targets_to_avoid.append(target)\n",
    "            batch[i * num_skips + j] = buffer[skip_window]\n",
    "            labels[i * num_skips + j,0] = buffer[target]\n",
    "        buffer.append(data[data_index])\n",
    "        data_index = (data_index + 1) % len(data)\n",
    "    return batch,labels"
   ]
  },
  {
   "cell_type": "code",
   "execution_count": 24,
   "metadata": {},
   "outputs": [
    {
     "name": "stdout",
     "output_type": "stream",
     "text": [
      "59 used -> 46 first \n",
      "\n",
      "59 used -> 156 against \n",
      "\n",
      "156 against -> 59 used \n",
      "\n",
      "156 against -> 128 early \n",
      "\n",
      "128 early -> 156 against \n",
      "\n",
      "128 early -> 742 working \n",
      "\n",
      "742 working -> 477 class \n",
      "\n",
      "742 working -> 128 early \n",
      "\n"
     ]
    }
   ],
   "source": [
    "#test\n",
    "batch,labels = generate_batch(batch_size=8,num_skips=2,skip_window=1)\n",
    "for i in range(8):\n",
    "    print(batch[i],reverse_dictionary[batch[i]],'->',labels[i,0],reverse_dictionary[labels[i,0]],'\\n')"
   ]
  },
  {
   "cell_type": "code",
   "execution_count": 28,
   "metadata": {},
   "outputs": [],
   "source": [
    "batch_size = 128\n",
    "embedding_size = 128\n",
    "skip_window = 1\n",
    "num_skips = 2\n",
    "\n",
    "valid_size = 16\n",
    "valid_window = 100\n",
    "valid_examples = np.random.choice(valid_window,valid_size,replace=False)\n",
    "num_sampled = 64 #负样本个数"
   ]
  },
  {
   "cell_type": "code",
   "execution_count": 26,
   "metadata": {},
   "outputs": [
    {
     "data": {
      "text/plain": [
       "array([52, 92, 96,  4, 45, 25, 39, 68, 56, 27, 95,  2,  3, 85, 89, 69])"
      ]
     },
     "execution_count": 26,
     "metadata": {},
     "output_type": "execute_result"
    }
   ],
   "source": [
    "valid_examples"
   ]
  },
  {
   "cell_type": "markdown",
   "metadata": {},
   "source": [
    "#### 构建框架图"
   ]
  },
  {
   "cell_type": "code",
   "execution_count": 32,
   "metadata": {},
   "outputs": [
    {
     "name": "stdout",
     "output_type": "stream",
     "text": [
      "WARNING:tensorflow:From <ipython-input-32-aaa2c4ce2023>:21: calling reduce_sum (from tensorflow.python.ops.math_ops) with keep_dims is deprecated and will be removed in a future version.\n",
      "Instructions for updating:\n",
      "keep_dims is deprecated, use keepdims instead\n"
     ]
    },
    {
     "name": "stderr",
     "output_type": "stream",
     "text": [
      "WARNING:tensorflow:From <ipython-input-32-aaa2c4ce2023>:21: calling reduce_sum (from tensorflow.python.ops.math_ops) with keep_dims is deprecated and will be removed in a future version.\n",
      "Instructions for updating:\n",
      "keep_dims is deprecated, use keepdims instead\n"
     ]
    }
   ],
   "source": [
    "graph = tf.Graph()\n",
    "with graph.as_default():\n",
    "    train_inputs = tf.placeholder(tf.int32,shape=[batch_size])\n",
    "    train_labels = tf.placeholder(tf.int32,shape=[batch_size,1])\n",
    "    valid_dataset = tf.constant(valid_examples,dtype=tf.int32)\n",
    "    \n",
    "    with tf.device('/cpu:0'):\n",
    "        embeddings = tf.Variable(tf.random_uniform([vocabulary_size,embedding_size],-1.0,1.0))\n",
    "        embed = tf.nn.embedding_lookup(embeddings,train_inputs)\n",
    "\n",
    "        nce_weights = tf.Variable(tf.truncated_normal([vocabulary_size,embedding_size],stddev=1.0 / math.sqrt(embedding_size)))\n",
    "        nce_biases = tf.Variable(tf.zeros([vocabulary_size]))\n",
    "    loss = tf.reduce_mean(tf.nn.nce_loss(weights=nce_weights,\n",
    "                                        biases=nce_biases,\n",
    "                                        labels=train_labels,\n",
    "                                        inputs=embed,\n",
    "                                        num_sampled=num_sampled,\n",
    "                                        num_classes=vocabulary_size))\n",
    "    optimizer = tf.train.GradientDescentOptimizer(1.0).minimize(loss)\n",
    "\n",
    "    norm = tf.sqrt(tf.reduce_sum(tf.square(embeddings),1,keep_dims=True))\n",
    "    normalized_embeddings = embeddings / norm\n",
    "    valid_embeddings = tf.nn.embedding_lookup(normalized_embeddings,valid_dataset)\n",
    "    similarity = tf.matmul(valid_embeddings,normalized_embeddings,transpose_b=True) #计算验证单词与所有嵌入单词的相似性\n",
    "\n",
    "    init = tf.global_variables_initializer()"
   ]
  },
  {
   "cell_type": "code",
   "execution_count": 40,
   "metadata": {},
   "outputs": [
    {
     "name": "stdout",
     "output_type": "stream",
     "text": [
      "Initialized\n",
      "Average loss at step  0 :  258.88311767578125\n",
      "Nearest to new: mindful, milton, revitalization, relator, heroin, alliteration, bern, unite,\n",
      "Nearest to who: culminated, ensuing, allosteric, lusitanian, postulates, bluff, convenience, constructible,\n",
      "Nearest to was: clash, capoeira, monolithic, irl, libra, apes, keg, militiamen,\n",
      "Nearest to by: mccormack, having, phenylalanine, tolkien, salvaged, rex, code, corrupting,\n",
      "Nearest to a: landing, hires, divers, oligopoly, bowstring, seaman, lord, golovachev,\n",
      "Nearest to history: minardi, scriptura, chuppah, unicellular, hedonistic, greenhouse, immortal, meager,\n",
      "Nearest to their: instructing, masoretes, thoroughfares, antiquarian, hirsch, industrial, fungal, uz,\n",
      "Nearest to on: motherhood, nosed, length, believable, adults, hyphen, amadeus, infringes,\n",
      "Nearest to he: indistinguishable, hep, float, wallis, atalanta, fidelity, axons, giles,\n",
      "Nearest to th: bash, umno, rutgers, bruford, knuckle, emissions, meson, texts,\n",
      "Nearest to after: dare, ewald, shaken, resupply, fulcher, tenzin, chungcheong, align,\n",
      "Nearest to his: apostles, d, hilda, cartels, tribes, extinguish, nevsky, mantle,\n",
      "Nearest to of: cementing, chimneys, cordless, cosmetics, dependence, insecure, valpara, emperors,\n",
      "Nearest to world: origin, quadrangle, shivaji, gees, naka, pray, ramanujan, deadliest,\n",
      "Nearest to no: eyewitness, nba, norwegians, shunting, scott, alerted, insistence, thrillers,\n",
      "Nearest to five: telethon, tau, annulled, leach, anarchy, decided, geraldine, propellant,\n",
      "Average loss at step  2000 :  114.33050081014633\n",
      "Average loss at step  4000 :  52.57693427062035\n",
      "Average loss at step  6000 :  33.64749434018135\n",
      "Average loss at step  8000 :  23.13764134836197\n",
      "Average loss at step  10000 :  17.67033000779152\n",
      "Nearest to new: evidence, statistics, one, rudolph, and, bond, bambaataa, signing,\n",
      "Nearest to who: and, alien, roads, aries, security, research, turbocharged, culminated,\n",
      "Nearest to was: is, gland, finals, mathbf, libra, causing, wrote, ncaa,\n",
      "Nearest to by: and, in, with, is, expulsions, reginae, one, vs,\n",
      "Nearest to a: the, unk, and, his, mathbf, x, one, stretches,\n",
      "Nearest to history: gb, phi, mathbf, psi, intact, greenhouse, abba, analogue,\n",
      "Nearest to their: phi, the, axle, algae, its, instructing, moderately, accomplishments,\n",
      "Nearest to on: in, and, from, gland, with, emphatic, of, rebellious,\n",
      "Nearest to he: and, hep, ada, they, neuron, axons, pressing, hingis,\n",
      "Nearest to th: vs, zero, analogue, mathbf, six, nine, one, rutgers,\n",
      "Nearest to after: dare, autism, omnibus, roe, align, taught, animalium, ara,\n",
      "Nearest to his: the, a, apostles, mourned, mathbf, pipeline, speer, violated,\n",
      "Nearest to of: in, and, for, mathbf, nine, from, victoriae, zero,\n",
      "Nearest to world: origin, resurgence, star, pray, basketball, ford, proceeding, map,\n",
      "Nearest to no: nine, scott, seven, lowercase, hellenic, composition, sheet, hazards,\n",
      "Nearest to five: nine, phi, vs, zero, decided, two, gland, mathbf,\n",
      "Average loss at step  12000 :  14.22745669734478\n",
      "Average loss at step  14000 :  11.649259050130844\n",
      "Average loss at step  16000 :  9.86279849255085\n",
      "Average loss at step  18000 :  8.619185206174851\n",
      "Average loss at step  20000 :  7.826635425567627\n",
      "Nearest to new: milton, statistics, signing, circ, evidence, bern, bambaataa, rudolph,\n",
      "Nearest to who: and, three, research, roads, that, security, which, chosen,\n",
      "Nearest to was: is, were, by, are, mathbf, as, gland, when,\n",
      "Nearest to by: in, and, was, with, for, is, were, agouti,\n",
      "Nearest to a: the, backslash, dasyprocta, his, and, ilya, mathbf, vs,\n",
      "Nearest to history: gb, intact, greenhouse, unicellular, mathbf, phi, psi, abba,\n",
      "Nearest to their: the, its, his, phi, algae, accomplishments, moderately, fungal,\n",
      "Nearest to on: in, from, and, with, of, circ, emphatic, mathbf,\n",
      "Nearest to he: it, they, she, and, nine, five, there, circ,\n",
      "Nearest to th: six, zero, three, vs, nine, agouti, one, rutgers,\n",
      "Nearest to after: dare, as, roe, and, of, taught, animalium, grow,\n",
      "Nearest to his: the, their, a, s, its, mourned, hilda, dasyprocta,\n",
      "Nearest to of: and, in, for, dasyprocta, from, nine, with, operatorname,\n",
      "Nearest to world: origin, resurgence, metis, star, pray, basketball, merger, acacia,\n",
      "Nearest to no: nba, lowercase, saud, seven, nine, hazards, hellenic, composition,\n",
      "Nearest to five: nine, two, zero, seven, eight, four, six, three,\n",
      "Average loss at step  22000 :  7.338410966277123\n",
      "Average loss at step  24000 :  6.900377625823021\n",
      "Average loss at step  26000 :  6.72790344274044\n",
      "Average loss at step  28000 :  6.2038485261201854\n",
      "Average loss at step  30000 :  6.144661376953125\n",
      "Nearest to new: milton, signing, statistics, bambaataa, doris, bern, evidence, family,\n",
      "Nearest to who: and, which, also, he, three, they, that, research,\n",
      "Nearest to was: is, were, by, reuptake, has, had, when, mathbf,\n",
      "Nearest to by: in, with, was, and, for, were, as, from,\n",
      "Nearest to a: the, backslash, dasyprocta, abet, ize, phi, victoriae, his,\n",
      "Nearest to history: intact, gb, unicellular, greenhouse, mathbf, phi, psi, lysine,\n",
      "Nearest to their: its, the, his, a, phi, thoroughfares, accomplishments, sixth,\n",
      "Nearest to on: in, from, abet, with, and, two, for, rebellious,\n",
      "Nearest to he: it, they, she, there, and, circ, six, five,\n",
      "Nearest to th: six, three, nine, zero, eight, seven, vs, bash,\n",
      "Nearest to after: in, as, when, aung, dare, roe, by, electrolytic,\n",
      "Nearest to his: their, the, s, its, a, her, mourned, hilda,\n",
      "Nearest to of: in, and, for, from, eight, nine, dasyprocta, or,\n",
      "Nearest to world: resurgence, origin, shivaji, star, metis, pray, basketball, merger,\n",
      "Nearest to no: a, eyewitness, saud, lowercase, nba, hazards, spotter, nine,\n",
      "Nearest to five: four, eight, seven, six, nine, zero, three, two,\n",
      "Average loss at step  32000 :  5.8549045475721355\n",
      "Average loss at step  34000 :  5.873771804928779\n",
      "Average loss at step  36000 :  5.702993852496147\n",
      "Average loss at step  38000 :  5.292087558627129\n",
      "Average loss at step  40000 :  5.498839119195938\n",
      "Nearest to new: milton, signing, evidence, bambaataa, family, doris, rudolph, vs,\n",
      "Nearest to who: which, and, he, also, lemmy, albury, they, often,\n",
      "Nearest to was: is, were, has, had, by, reuptake, are, mathbf,\n",
      "Nearest to by: was, in, as, with, is, be, for, were,\n",
      "Nearest to a: the, backslash, dasyprocta, albury, governorates, beadwork, abet, phi,\n",
      "Nearest to history: intact, gb, unicellular, mathbf, greenhouse, flores, psi, phi,\n",
      "Nearest to their: its, his, the, phi, a, accomplishments, alexey, her,\n",
      "Nearest to on: in, abet, from, emphatic, at, gland, mathbf, with,\n",
      "Nearest to he: it, they, she, there, who, albury, six, circ,\n",
      "Nearest to th: zero, six, seven, nine, eight, three, emissions, bash,\n",
      "Nearest to after: when, roe, dare, electrolytic, as, aung, animalium, reuptake,\n",
      "Nearest to his: their, the, its, her, s, mourned, lemmy, a,\n",
      "Nearest to of: in, from, dasyprocta, abitibi, albury, and, nine, mathbf,\n",
      "Nearest to world: resurgence, shivaji, origin, star, honeywell, nuke, basketball, metis,\n",
      "Nearest to no: a, albury, lowercase, eyewitness, saud, nba, hazards, spotter,\n",
      "Nearest to five: four, six, three, seven, eight, zero, two, nine,\n",
      "Average loss at step  42000 :  5.290296224117279\n",
      "Average loss at step  44000 :  5.265128164052963\n",
      "Average loss at step  46000 :  5.275449109792709\n",
      "Average loss at step  48000 :  5.010221459031105\n",
      "Average loss at step  50000 :  5.142309828042984\n",
      "Nearest to new: milton, great, signing, bambaataa, bern, doris, family, rudolph,\n",
      "Nearest to who: he, which, and, also, they, albury, often, lemmy,\n",
      "Nearest to was: is, were, has, by, had, being, be, been,\n",
      "Nearest to by: was, as, be, with, were, in, for, agouti,\n",
      "Nearest to a: the, backslash, any, albury, dasyprocta, governorates, dryden, naaman,\n",
      "Nearest to history: intact, unicellular, scriptura, pla, gb, meager, mathbf, greenhouse,\n",
      "Nearest to their: its, his, the, her, phi, a, sixth, power,\n",
      "Nearest to on: in, abet, at, from, mathbf, gland, emphatic, rebellious,\n",
      "Nearest to he: it, they, she, there, who, six, albury, ursus,\n",
      "Nearest to th: six, zero, seven, eight, three, nine, checkers, vs,\n",
      "Nearest to after: when, as, before, roe, in, abet, reuptake, animalium,\n",
      "Nearest to his: their, the, its, her, s, mourned, expo, freescale,\n",
      "Nearest to of: in, and, nine, for, thibetanus, same, from, dasyprocta,\n",
      "Nearest to world: resurgence, quadrangle, honeywell, shivaji, origin, star, nuke, basketball,\n",
      "Nearest to no: albury, eyewitness, lowercase, a, hazards, saud, spotter, nba,\n",
      "Nearest to five: four, three, six, eight, seven, zero, two, nine,\n"
     ]
    },
    {
     "name": "stdout",
     "output_type": "stream",
     "text": [
      "Average loss at step  52000 :  5.17297053706646\n",
      "Average loss at step  54000 :  5.101635481834411\n",
      "Average loss at step  56000 :  5.066307352304459\n",
      "Average loss at step  58000 :  5.0913909817934035\n",
      "Average loss at step  60000 :  4.941439141690731\n",
      "Nearest to new: milton, great, signing, cebus, doris, callithrix, family, bambaataa,\n",
      "Nearest to who: he, which, they, also, and, albury, often, not,\n",
      "Nearest to was: is, has, were, had, by, became, been, when,\n",
      "Nearest to by: was, be, as, with, microcebus, were, cebus, agouti,\n",
      "Nearest to a: the, backslash, another, any, callithrix, dasyprocta, dist, governorates,\n",
      "Nearest to history: callithrix, cebus, mathbf, intact, agouti, microsite, abet, gb,\n",
      "Nearest to their: its, his, the, her, callithrix, microcebus, phi, agouti,\n",
      "Nearest to on: in, abet, at, from, michelob, upon, mathbf, gland,\n",
      "Nearest to he: it, they, she, there, who, microsite, albury, microcebus,\n",
      "Nearest to th: eight, six, seven, nine, zero, four, checkers, five,\n",
      "Nearest to after: when, before, as, roe, abet, aung, reuptake, among,\n",
      "Nearest to his: their, its, her, the, s, callithrix, mourned, freescale,\n",
      "Nearest to of: cebus, in, callithrix, for, microcebus, dasyprocta, nine, thibetanus,\n",
      "Nearest to world: quadrangle, resurgence, honeywell, shivaji, basketball, origin, microcebus, albion,\n",
      "Nearest to no: albury, lowercase, a, hazards, eyewitness, rangle, microsite, bouchard,\n",
      "Nearest to five: four, six, three, eight, seven, zero, nine, two,\n",
      "Average loss at step  62000 :  4.785566355228424\n",
      "Average loss at step  64000 :  4.7949355068206785\n",
      "Average loss at step  66000 :  4.986320515394211\n",
      "Average loss at step  68000 :  4.8943400130271915\n",
      "Average loss at step  70000 :  4.789820286393166\n",
      "Nearest to new: great, doris, milton, family, signing, cebus, callithrix, bambaataa,\n",
      "Nearest to who: he, which, they, also, often, and, albury, not,\n",
      "Nearest to was: is, has, were, had, by, became, being, been,\n",
      "Nearest to by: was, be, as, microcebus, were, in, been, with,\n",
      "Nearest to a: the, backslash, callithrix, thaler, any, beadwork, another, albury,\n",
      "Nearest to history: callithrix, cebus, intact, ona, mathbf, microsite, agouti, meager,\n",
      "Nearest to their: its, his, the, her, mitral, callithrix, microcebus, thaler,\n",
      "Nearest to on: in, abet, upon, from, at, mitral, michelob, through,\n",
      "Nearest to he: it, she, they, there, who, microsite, i, albury,\n",
      "Nearest to th: six, eight, nine, seven, zero, checkers, three, emissions,\n",
      "Nearest to after: when, before, during, in, abet, roe, as, upanija,\n",
      "Nearest to his: their, its, her, the, s, callithrix, mitral, freescale,\n",
      "Nearest to of: cebus, thibetanus, callithrix, microcebus, dasyprocta, and, in, for,\n",
      "Nearest to world: resurgence, quadrangle, honeywell, microcebus, albion, shivaji, khanna, basketball,\n",
      "Nearest to no: albury, hazards, lowercase, a, eyewitness, thaler, rangle, saud,\n",
      "Nearest to five: four, six, three, eight, seven, zero, nine, two,\n",
      "Average loss at step  72000 :  4.8053926067352295\n",
      "Average loss at step  74000 :  4.779151022672653\n",
      "Average loss at step  76000 :  4.896696552753449\n",
      "Average loss at step  78000 :  4.783879113078117\n",
      "Average loss at step  80000 :  4.8119098836183545\n",
      "Nearest to new: great, cebus, milton, callithrix, family, signing, bambaataa, doris,\n",
      "Nearest to who: he, which, they, also, often, and, hepatitis, she,\n",
      "Nearest to was: is, were, has, had, became, by, being, been,\n",
      "Nearest to by: was, be, as, microcebus, were, been, cebus, agouti,\n",
      "Nearest to a: the, another, backslash, any, callithrix, thaler, dist, governorates,\n",
      "Nearest to history: callithrix, intact, cebus, ona, greenhouse, tans, mathbf, agouti,\n",
      "Nearest to their: its, his, the, her, mitral, callithrix, microcebus, microinstruction,\n",
      "Nearest to on: in, at, abet, upon, through, from, mitral, michelob,\n",
      "Nearest to he: it, she, they, there, who, five, albury, microsite,\n",
      "Nearest to th: eight, seven, nine, six, zero, checkers, five, emissions,\n",
      "Nearest to after: when, before, during, in, roe, as, abet, catalysis,\n",
      "Nearest to his: their, her, its, the, s, mitral, callithrix, expo,\n",
      "Nearest to of: cebus, thibetanus, in, callithrix, microcebus, same, nine, dasyprocta,\n",
      "Nearest to world: quadrangle, resurgence, honeywell, albion, microcebus, shivaji, bangalore, scandinavians,\n",
      "Nearest to no: albury, hazards, eyewitness, lowercase, thaler, a, shunting, rangle,\n",
      "Nearest to five: six, four, seven, eight, three, nine, zero, two,\n",
      "Average loss at step  82000 :  4.800808173179626\n",
      "Average loss at step  84000 :  4.777475522041321\n",
      "Average loss at step  86000 :  4.827258608579635\n",
      "Average loss at step  88000 :  4.704618231534958\n",
      "Average loss at step  90000 :  4.757589909434318\n",
      "Nearest to new: great, callithrix, cebus, family, milton, signing, doris, bambaataa,\n",
      "Nearest to who: he, they, which, and, also, often, she, hepatitis,\n",
      "Nearest to was: is, has, were, had, became, being, been, be,\n",
      "Nearest to by: as, was, be, were, microcebus, cebus, under, agouti,\n",
      "Nearest to a: the, backslash, callithrix, governorates, another, albury, thaler, cebus,\n",
      "Nearest to history: callithrix, intact, cebus, ona, greenhouse, university, microsite, agouti,\n",
      "Nearest to their: its, his, her, the, mitral, callithrix, microcebus, mourned,\n",
      "Nearest to on: in, at, upon, through, abet, michelob, from, mitral,\n",
      "Nearest to he: it, she, they, there, who, later, albury, six,\n",
      "Nearest to th: seven, six, eight, nine, zero, checkers, five, emissions,\n",
      "Nearest to after: when, before, during, as, roe, in, abet, while,\n",
      "Nearest to his: their, her, its, the, s, mitral, callithrix, freescale,\n",
      "Nearest to of: cebus, in, callithrix, thibetanus, dasyprocta, microcebus, albury, for,\n",
      "Nearest to world: quadrangle, resurgence, microcebus, khanna, albion, honeywell, victoriae, callithrix,\n",
      "Nearest to no: albury, hazards, eyewitness, thaler, lowercase, often, any, rangle,\n",
      "Nearest to five: four, six, eight, seven, three, nine, two, zero,\n",
      "Average loss at step  92000 :  4.7094401175975795\n",
      "Average loss at step  94000 :  4.626212745785713\n",
      "Average loss at step  96000 :  4.7368215154409405\n",
      "Average loss at step  98000 :  4.624611098051071\n",
      "Average loss at step  100000 :  4.661337601304054\n",
      "Nearest to new: great, milton, merovingian, family, doris, signing, cebus, callithrix,\n",
      "Nearest to who: he, they, which, also, and, often, she, already,\n",
      "Nearest to was: is, has, were, had, became, been, being, be,\n",
      "Nearest to by: be, was, as, were, microcebus, under, cebus, five,\n",
      "Nearest to a: the, another, any, backslash, thaler, callithrix, microcebus, mucus,\n",
      "Nearest to history: callithrix, intact, cebus, ona, microsite, greenhouse, agouti, tans,\n",
      "Nearest to their: its, his, the, her, mitral, some, callithrix, arson,\n",
      "Nearest to on: in, through, upon, at, abet, michelob, mitral, during,\n",
      "Nearest to he: she, it, they, there, who, we, never, albury,\n",
      "Nearest to th: six, seven, nine, eight, checkers, emissions, globalisation, bash,\n",
      "Nearest to after: before, when, during, in, while, at, abet, under,\n",
      "Nearest to his: their, her, its, the, s, our, freescale, mitral,\n",
      "Nearest to of: cebus, in, callithrix, microcebus, dasyprocta, thibetanus, albury, nine,\n",
      "Nearest to world: quadrangle, resurgence, honeywell, albion, microcebus, khanna, shivaji, phrygian,\n",
      "Nearest to no: albury, hazards, any, eyewitness, thaler, lowercase, masculinity, rangle,\n",
      "Nearest to five: four, seven, six, eight, three, zero, nine, two,\n"
     ]
    }
   ],
   "source": [
    "num_steps = 100001\n",
    "\n",
    "with tf.Session(graph=graph)as session:\n",
    "    init.run()\n",
    "    print(\"Initialized\")\n",
    "    \n",
    "    average_loss = 0\n",
    "    for step in range(num_steps): #每次迭代只训练一个batch\n",
    "        batch_inputs,batch_labels = generate_batch(batch_size,num_skips,skip_window)\n",
    "        feed_dict = {train_inputs:batch_inputs,train_labels:batch_labels}\n",
    "        \n",
    "        _,loss_val = session.run([optimizer,loss],feed_dict=feed_dict)\n",
    "        average_loss += loss_val\n",
    "        \n",
    "        if step % 2000 == 0:\n",
    "            if step > 0:\n",
    "                average_loss /= 2000\n",
    "            print(\"Average loss at step \",step,\": \",average_loss)\n",
    "            average_loss = 0\n",
    "        if step % 10000 == 0:\n",
    "            sim = similarity.eval()\n",
    "            for i in range(valid_size):\n",
    "                valid_word = reverse_dictionary[valid_examples[i]]\n",
    "                top_k = 8\n",
    "                nearest = (-sim[i,:]).argsort()[1:top_k+1] # argsort（从小到大的索引号）；除自己外，最相似的前8个\n",
    "                log_str = \"Nearest to %s:\" % valid_word\n",
    "                for k in range(top_k):\n",
    "                    close_word = reverse_dictionary[nearest[k]]\n",
    "                    log_str = \"%s %s,\" % (log_str,close_word)\n",
    "                print(log_str)\n",
    "    final_embeddings = normalized_embeddings.eval()"
   ]
  },
  {
   "cell_type": "markdown",
   "metadata": {},
   "source": [
    "> t.eval()时，等价于：tf.get_default_session().run(t)."
   ]
  },
  {
   "cell_type": "code",
   "execution_count": 46,
   "metadata": {},
   "outputs": [
    {
     "data": {
      "text/plain": [
       "<tf.Tensor 'strided_slice_1:0' shape=(5, 128) dtype=float32>"
      ]
     },
     "execution_count": 46,
     "metadata": {},
     "output_type": "execute_result"
    }
   ],
   "source": [
    "normalized_embeddings[:5,:]"
   ]
  },
  {
   "cell_type": "code",
   "execution_count": 45,
   "metadata": {},
   "outputs": [
    {
     "data": {
      "text/plain": [
       "array([[-5.66970855e-02,  1.31650642e-01, -1.34490386e-01,\n",
       "        -4.80807163e-02, -7.88416117e-02, -8.53181630e-03,\n",
       "        -3.64548154e-02, -1.39574692e-01,  1.48069680e-01,\n",
       "        -1.07848413e-01,  1.56800449e-02, -1.16830587e-01,\n",
       "        -1.03125826e-01,  7.58625939e-02,  1.50168821e-01,\n",
       "        -1.04511771e-02, -2.99579874e-02,  5.83832189e-02,\n",
       "         1.21270426e-01,  1.62891522e-01, -4.27977555e-03,\n",
       "         3.52733186e-03,  4.37505543e-02,  8.84386078e-02,\n",
       "         5.83380833e-02, -5.25032207e-02, -7.32320398e-02,\n",
       "         1.16017729e-01,  5.35150953e-02, -1.63356096e-01,\n",
       "         1.26650827e-02,  1.45068884e-01, -1.31143987e-01,\n",
       "        -4.72605526e-02,  8.51690210e-03, -1.49133205e-01,\n",
       "        -6.38418049e-02, -1.33740738e-01, -4.77596708e-02,\n",
       "        -6.76517412e-02, -6.15881756e-02, -1.60446763e-02,\n",
       "         7.89611042e-02, -1.36504359e-05,  2.44749878e-02,\n",
       "         1.06033936e-01,  5.03512099e-02,  2.34616026e-02,\n",
       "        -1.83766171e-01, -6.33329749e-02,  1.69759262e-02,\n",
       "        -1.99818835e-02, -4.47109826e-02,  6.01528212e-02,\n",
       "        -3.45657878e-02, -1.04539424e-01,  2.19434053e-02,\n",
       "        -6.71135634e-02,  2.05654919e-01, -1.39016539e-01,\n",
       "         9.04563442e-02, -4.12173569e-02,  1.04822755e-01,\n",
       "        -2.87623182e-02,  7.00357780e-02,  4.30179685e-02,\n",
       "         6.71034083e-02, -7.18336329e-02,  3.33077796e-02,\n",
       "         7.42918476e-02,  7.68396705e-02,  7.53786275e-03,\n",
       "         1.60189271e-01, -1.10388629e-01,  1.33883511e-03,\n",
       "        -1.41269028e-01,  1.13660291e-01, -1.38213351e-01,\n",
       "         4.22424637e-02, -2.07809024e-02,  8.44568014e-02,\n",
       "         6.58412948e-02,  5.55633083e-02, -2.17979163e-01,\n",
       "         8.16349760e-02,  8.88274908e-02,  1.27292273e-03,\n",
       "         1.22059070e-01,  1.51218757e-01, -1.42202541e-01,\n",
       "         1.57442719e-01, -2.07130462e-01, -8.01733881e-02,\n",
       "        -3.73506397e-02, -9.61707383e-02, -3.08545288e-02,\n",
       "         2.38880087e-02, -1.00604288e-01, -8.23564529e-02,\n",
       "        -1.58498064e-02,  4.46897298e-02, -1.11811757e-01,\n",
       "         9.95733514e-02,  7.66179413e-02,  3.79884727e-02,\n",
       "        -2.74842568e-02,  5.56585863e-02,  4.55162860e-03,\n",
       "         8.66615959e-03,  4.86037359e-02,  2.39373948e-02,\n",
       "        -7.40081221e-02,  9.62594822e-02, -2.92755198e-02,\n",
       "        -7.42408931e-02,  8.39219168e-02,  2.69943173e-03,\n",
       "        -9.28403437e-02, -8.82176459e-02, -1.29147470e-02,\n",
       "        -5.84221631e-02, -1.02908410e-01, -1.05738498e-01,\n",
       "         4.43678088e-02, -8.45374353e-03, -2.66914796e-02,\n",
       "         1.36757586e-02,  5.95273785e-02],\n",
       "       [-5.74400574e-02, -7.68619357e-03, -1.06538929e-01,\n",
       "        -5.75065576e-02, -1.46028116e-01,  1.93194300e-03,\n",
       "        -5.74888401e-02, -5.29234670e-02,  3.79767157e-02,\n",
       "        -8.13117772e-02,  5.67190871e-02,  5.57462573e-02,\n",
       "        -5.03171571e-02,  1.63684994e-01,  2.18448207e-01,\n",
       "        -4.65586819e-02,  2.60763429e-02, -8.36088881e-03,\n",
       "         3.39250974e-02,  5.20278094e-03, -5.84525019e-02,\n",
       "        -8.82743448e-02,  1.41411750e-02, -4.07430567e-02,\n",
       "         1.59156043e-02,  7.61080086e-02,  3.34734619e-02,\n",
       "         1.91846956e-02, -9.12967604e-03,  5.69682047e-02,\n",
       "         2.73759123e-02,  3.98290120e-02, -2.24635825e-01,\n",
       "        -1.78337142e-01, -5.28482394e-03,  1.45149767e-01,\n",
       "        -7.41777644e-02, -2.94839721e-02, -4.73442338e-02,\n",
       "        -8.42697248e-02, -1.19622543e-01,  1.61658619e-02,\n",
       "        -3.39746922e-02,  3.66683640e-02,  9.00431201e-02,\n",
       "         1.17724523e-01,  1.52219281e-01, -9.92999151e-02,\n",
       "        -1.31449535e-01, -1.31924734e-01,  1.08459748e-01,\n",
       "        -4.81220149e-02, -5.90485008e-03,  1.14113554e-01,\n",
       "        -1.43253542e-02, -2.52387561e-02, -5.04829250e-02,\n",
       "        -1.61529452e-01,  8.01775455e-02,  1.11790083e-01,\n",
       "         4.86502461e-02,  5.28621189e-02, -1.72253653e-01,\n",
       "        -2.86869574e-02, -1.15187010e-02,  4.79805544e-02,\n",
       "        -9.42865312e-02, -3.90683264e-02, -1.85127988e-01,\n",
       "         5.29614799e-02,  1.34271830e-01,  7.81055819e-03,\n",
       "         1.74799845e-01, -4.43952978e-02, -5.43473959e-02,\n",
       "        -2.06023753e-01,  2.40517352e-02,  4.60940115e-02,\n",
       "        -3.90930437e-02,  4.52592559e-02,  3.22016813e-02,\n",
       "         4.47109900e-02,  7.43850470e-02, -8.41551125e-02,\n",
       "         5.82996244e-03,  8.31779540e-02,  9.03412178e-02,\n",
       "         3.44678164e-02,  1.55094415e-02, -1.70471743e-02,\n",
       "         2.17080832e-01, -2.60220975e-01, -2.86312513e-02,\n",
       "         1.17758326e-01, -1.06509000e-01,  5.26102446e-02,\n",
       "         2.04037111e-02,  1.18582167e-01, -1.04433618e-01,\n",
       "         1.33198276e-01,  1.29004121e-01,  7.04086423e-02,\n",
       "         1.96916703e-02,  2.41568708e-03, -4.71011765e-04,\n",
       "         4.12835963e-02,  3.87002453e-02, -3.18742655e-02,\n",
       "         7.02443570e-02,  1.12575173e-01,  1.02030583e-01,\n",
       "        -7.17115104e-02, -3.71446759e-02,  5.15198186e-02,\n",
       "        -8.52903724e-02,  1.01595692e-01,  6.83875605e-02,\n",
       "         4.43724357e-02, -5.78033291e-02, -2.98267454e-02,\n",
       "         1.91847626e-02, -2.72414200e-02,  1.25466168e-01,\n",
       "        -6.17471933e-02, -6.40826300e-02,  4.31221016e-02,\n",
       "         6.42719492e-02,  4.03210372e-02],\n",
       "       [-1.14900738e-01, -7.66538382e-02, -1.63159594e-01,\n",
       "        -5.70173897e-02, -9.51526454e-04,  4.97565717e-02,\n",
       "         6.14248998e-02,  2.17446871e-02,  6.47601187e-02,\n",
       "        -1.40307978e-01,  1.49038166e-01, -1.49714760e-02,\n",
       "        -5.28925285e-02,  3.64087597e-02,  9.61792096e-03,\n",
       "         1.65895209e-01, -1.16038918e-01,  1.42601460e-01,\n",
       "         2.28820339e-01, -1.00591242e-01, -2.12689325e-01,\n",
       "        -8.43271017e-02,  7.59457499e-02,  9.42039397e-03,\n",
       "         8.26884434e-02, -1.20641738e-01,  1.11857522e-03,\n",
       "        -5.86192757e-02,  4.08338476e-03,  4.70757186e-02,\n",
       "        -1.20505206e-01,  2.45116189e-01, -9.07659382e-02,\n",
       "         2.94263493e-02, -3.33570614e-02,  2.58084945e-02,\n",
       "         6.27787709e-02, -1.64480098e-02, -1.29161865e-01,\n",
       "        -1.91914216e-02, -9.46757123e-02, -1.36247158e-01,\n",
       "        -3.39722782e-02, -7.30898231e-02,  1.25631928e-01,\n",
       "         1.57899067e-01,  4.40502912e-02, -1.26070902e-02,\n",
       "        -8.35977122e-02, -6.08810782e-02,  6.94269389e-02,\n",
       "         7.45620728e-02, -5.33452742e-02,  1.01797335e-01,\n",
       "         2.90211514e-02, -2.78699026e-03,  3.78838484e-03,\n",
       "        -1.42371938e-01,  1.16531268e-01,  1.22346044e-01,\n",
       "         6.13517910e-02,  1.21758468e-02,  4.85384353e-02,\n",
       "         3.67539600e-02,  2.88008396e-02, -5.95780686e-02,\n",
       "        -5.55152074e-02,  1.18516751e-01, -5.63878193e-02,\n",
       "         1.23275220e-01,  5.43060862e-02, -9.00827721e-02,\n",
       "         1.01559415e-01, -6.01407699e-02,  4.74807657e-02,\n",
       "        -2.31148116e-02,  7.03197494e-02,  9.27936584e-02,\n",
       "        -1.24342650e-01,  5.28374268e-03,  8.25588703e-02,\n",
       "        -5.80719151e-02,  1.36038348e-01,  8.59395713e-02,\n",
       "         6.58336356e-02,  3.13392095e-02, -1.01711072e-01,\n",
       "         3.79147120e-02,  6.82210326e-02, -2.81587988e-02,\n",
       "         7.88444057e-02, -1.61699012e-01, -7.64970481e-02,\n",
       "         5.26943505e-02, -1.00529164e-01,  2.84802821e-02,\n",
       "        -3.23525183e-02,  3.28442343e-02,  7.95651227e-02,\n",
       "        -5.83873838e-02,  9.53921080e-02, -5.67120574e-02,\n",
       "         4.49068956e-02,  9.89423320e-02,  7.72763863e-02,\n",
       "         4.67406325e-02,  6.06236607e-02,  6.37752712e-02,\n",
       "        -1.27938196e-01, -8.87575969e-02,  4.46576141e-02,\n",
       "        -1.83397278e-01, -3.79966646e-02,  5.10064773e-02,\n",
       "        -6.52537048e-02, -4.56159823e-02,  4.30799574e-02,\n",
       "         3.71048339e-02,  2.63354369e-02,  3.10575124e-02,\n",
       "        -1.34233505e-01, -7.69804865e-02, -1.26347199e-01,\n",
       "         1.16566859e-01, -9.19955522e-02,  9.17472839e-02,\n",
       "         5.72159551e-02,  4.03040014e-02],\n",
       "       [-2.16161177e-01, -8.50104615e-02, -1.27293304e-01,\n",
       "        -9.73917358e-03, -5.65923192e-02,  6.71895221e-02,\n",
       "        -3.36837694e-02, -1.02369964e-01,  1.77803323e-01,\n",
       "        -1.17658973e-01, -6.65221438e-02, -5.00040725e-02,\n",
       "        -4.17042635e-02, -1.17074132e-01,  1.41559914e-01,\n",
       "         6.50257617e-02, -1.06674908e-02,  6.12868629e-02,\n",
       "         5.26376106e-02,  1.52152419e-01, -8.55083019e-02,\n",
       "        -6.02740720e-02,  1.76963910e-01, -4.15102765e-02,\n",
       "        -2.33770665e-02,  1.66034084e-02, -2.19534077e-02,\n",
       "         4.90838140e-02, -5.47496118e-02, -3.58789228e-02,\n",
       "        -1.07403018e-01,  2.00056627e-01, -3.42277400e-02,\n",
       "        -4.16821502e-02, -4.16268893e-02, -3.20957936e-02,\n",
       "        -1.62579976e-02, -9.16832685e-02, -6.20722882e-02,\n",
       "        -1.75125394e-02, -6.83302134e-02, -5.85810617e-02,\n",
       "         2.55593155e-02, -4.14181910e-02,  8.35931301e-02,\n",
       "         7.20662102e-02,  2.96045601e-01, -2.04927512e-02,\n",
       "        -1.41463041e-01, -1.96026832e-01, -8.00502002e-02,\n",
       "         7.98520148e-02, -5.24047948e-02,  6.98303478e-03,\n",
       "         1.56337991e-01,  1.12004369e-01, -3.68395038e-02,\n",
       "        -9.64852870e-02,  9.04246867e-02,  3.41490209e-02,\n",
       "         5.37695810e-02, -6.81202635e-02, -6.08497784e-02,\n",
       "        -2.94204452e-03,  1.30499437e-01,  4.09531519e-02,\n",
       "        -2.19050981e-02, -1.38635471e-01, -4.00363803e-02,\n",
       "         5.15526198e-02, -2.97279451e-02, -1.18510993e-02,\n",
       "         6.48285747e-02,  4.52497229e-02, -5.08995689e-02,\n",
       "        -1.20063975e-01,  1.01071810e-02,  5.65383621e-02,\n",
       "        -9.97351035e-02,  6.00650869e-02,  5.99507652e-02,\n",
       "        -8.96261036e-02, -6.12382106e-02, -7.90761635e-02,\n",
       "        -3.08711105e-03,  1.07102945e-01, -8.39532316e-02,\n",
       "         5.72816990e-02,  3.28629580e-03, -7.84380361e-02,\n",
       "        -6.73178807e-02, -1.92692146e-01, -2.34374907e-02,\n",
       "        -2.66587958e-02, -1.28915712e-01, -2.96171010e-02,\n",
       "        -1.22338440e-02,  3.11306808e-02,  4.01876345e-02,\n",
       "        -6.70759892e-03,  5.86535558e-02,  1.99807882e-02,\n",
       "         1.44073278e-01,  8.27916432e-04,  9.10886973e-02,\n",
       "        -1.48489177e-02,  2.86343042e-02, -5.80293350e-02,\n",
       "        -1.67902902e-01,  7.19452184e-03,  1.49638459e-01,\n",
       "        -2.03621715e-01,  7.61919990e-02,  1.59063842e-02,\n",
       "        -1.02673501e-01,  3.92585881e-02, -3.35854618e-03,\n",
       "        -3.18602584e-02,  5.53191546e-03, -1.48377847e-02,\n",
       "        -9.41033885e-02,  1.82203446e-02, -7.32059926e-02,\n",
       "         1.62799899e-02, -1.07834160e-01,  1.47082105e-01,\n",
       "         1.12478055e-01,  8.58736783e-02],\n",
       "       [ 1.01225246e-02, -7.33215809e-02,  3.11884154e-02,\n",
       "        -6.02502227e-02,  3.64380814e-02, -1.55709535e-02,\n",
       "        -6.31925166e-02, -6.94889948e-02,  1.61163166e-01,\n",
       "        -2.92434972e-02,  3.87192927e-02,  4.65810485e-02,\n",
       "        -7.17620328e-02, -6.01204438e-03,  1.22735091e-01,\n",
       "        -9.18094534e-03,  6.82559470e-03,  3.58264223e-02,\n",
       "         2.32508723e-02,  1.13163263e-01,  2.16321740e-02,\n",
       "        -7.65763670e-02,  1.07533224e-01,  1.21449664e-01,\n",
       "         1.97355136e-01, -1.08628340e-01,  8.46399814e-02,\n",
       "         1.00701369e-01, -4.49565463e-02, -1.42261714e-01,\n",
       "        -4.06471267e-02,  1.17613427e-01, -8.00677314e-02,\n",
       "        -3.21340896e-02, -6.48186058e-02,  3.62225063e-02,\n",
       "         4.85479124e-02, -7.94425681e-02,  1.66551080e-02,\n",
       "         1.22289555e-02, -1.30614325e-01, -7.67178982e-02,\n",
       "         3.43522392e-02,  6.66788816e-02,  1.17187854e-02,\n",
       "        -1.01116389e-01,  1.15324527e-01, -1.43540442e-01,\n",
       "        -2.12943301e-01, -1.05880298e-01, -1.54758897e-02,\n",
       "         1.71243757e-01, -1.48667365e-01,  1.21405996e-01,\n",
       "        -2.41794307e-02,  5.88593222e-02,  1.62592400e-02,\n",
       "        -1.43472925e-01,  5.46916910e-02, -7.70051703e-02,\n",
       "         1.65759757e-01, -2.85800360e-02, -9.24590528e-02,\n",
       "        -3.46400514e-02,  7.33379573e-02,  4.19225283e-02,\n",
       "        -4.79413904e-02, -1.00295067e-01, -4.86606359e-02,\n",
       "         1.02109626e-01,  3.52991298e-02, -5.27673103e-02,\n",
       "         4.27883565e-02, -8.55890438e-02, -5.49765602e-02,\n",
       "        -1.65028095e-01,  5.30776232e-02,  2.22370643e-02,\n",
       "        -6.56974986e-02,  8.87363404e-02,  3.08926534e-02,\n",
       "         2.93945130e-02,  1.35176450e-01, -6.55911043e-02,\n",
       "         2.71124230e-03, -3.42606829e-04, -3.85722443e-02,\n",
       "         4.42601703e-02,  6.25505298e-03, -8.71181265e-02,\n",
       "         1.87919155e-01, -1.98156625e-01,  7.12088943e-02,\n",
       "         1.37051791e-01, -2.14575261e-01,  6.97538406e-02,\n",
       "         1.14490971e-01, -1.58961117e-02, -1.49711877e-01,\n",
       "         3.85487601e-02,  8.24261829e-02,  4.41918373e-02,\n",
       "         1.27144650e-01,  1.10142045e-01,  4.12889272e-02,\n",
       "         6.72924444e-02, -3.24512273e-02,  6.81973547e-02,\n",
       "        -1.08367037e-02,  1.95319466e-02,  4.79771718e-02,\n",
       "         1.10630449e-02,  1.14028685e-01,  8.00800920e-02,\n",
       "        -1.03614308e-01,  1.16236001e-01, -1.37485549e-04,\n",
       "         4.60335016e-02,  1.48922965e-01, -3.50109441e-03,\n",
       "         3.90687631e-03, -3.21729779e-02, -8.95206705e-02,\n",
       "        -7.04012737e-02, -1.52734920e-01,  1.51198469e-02,\n",
       "         2.38248520e-02,  1.20546460e-01]], dtype=float32)"
      ]
     },
     "execution_count": 45,
     "metadata": {},
     "output_type": "execute_result"
    }
   ],
   "source": [
    "final_embeddings[:5,:]"
   ]
  },
  {
   "cell_type": "markdown",
   "metadata": {},
   "source": [
    "#### 可视化"
   ]
  },
  {
   "cell_type": "code",
   "execution_count": 43,
   "metadata": {},
   "outputs": [],
   "source": [
    "def plot_with_labels(low_dim_embs,labels,filename='pictures/tsne.png'):\n",
    "    assert low_dim_embs.shape[0] >= len(labels),\"More labels than embeddings\"\n",
    "    plt.figure(figsize=(18,18))\n",
    "    for i,label in enumerate(labels):\n",
    "        x,y = low_dim_embs[i,:]\n",
    "        plt.scatter(x,y)\n",
    "        plt.annotate(label,xy=(x,y),xytext=(5,2),textcoords='offset points',ha='right',va='bottom')\n",
    "    plt.savefig(filename)"
   ]
  },
  {
   "cell_type": "code",
   "execution_count": 44,
   "metadata": {},
   "outputs": [
    {
     "data": {
      "image/png": "[encoded data removed]",
      "text/plain": [
       "<matplotlib.figure.Figure at 0x243c238e7f0>"
      ]
     },
     "metadata": {},
     "output_type": "display_data"
    }
   ],
   "source": [
    "#降维\n",
    "from sklearn.manifold import TSNE\n",
    "import matplotlib.pyplot as plt\n",
    "tsne = TSNE(perplexity=30,n_components=2,init='pca',n_iter=5000) #压缩到两个维度\n",
    "plot_only=100\n",
    "low_dim_embs = tsne.fit_transform(final_embeddings[:plot_only,:])\n",
    "labels = [reverse_dictionary[i] for i in range(plot_only)]\n",
    "plot_with_labels(low_dim_embs,labels)"
   ]
  }
 ],
 "metadata": {
  "kernelspec": {
   "display_name": "Python 3",
   "language": "python",
   "name": "python3"
  },
  "language_info": {
   "codemirror_mode": {
    "name": "ipython",
    "version": 3
   },
   "file_extension": ".py",
   "mimetype": "text/x-python",
   "name": "python",
   "nbconvert_exporter": "python",
   "pygments_lexer": "ipython3",
   "version": "3.6.4"
  }
 },
 "nbformat": 4,
 "nbformat_minor": 2
}
